{
 "cells": [
  {
   "cell_type": "code",
   "execution_count": null,
   "metadata": {},
   "outputs": [],
   "source": []
  },
  {
   "cell_type": "code",
   "execution_count": 6,
   "metadata": {},
   "outputs": [],
   "source": [
    "import json\n",
    "with open('config.json','r') as f:\n",
    "    slack_token = json.load(f)[\"SLACK_TOKEN\"]\n"
   ]
  },
  {
   "cell_type": "code",
   "execution_count": 7,
   "metadata": {},
   "outputs": [],
   "source": [
    "def get_tmp_folder():\n",
    "    SAVEFOLDER = \"/tmp\"\n",
    "    import platform\n",
    "    pf = platform.system()\n",
    "    if pf == 'Windows':\n",
    "        if not os.path.exists(\"save_folder\"):\n",
    "            os.mkdir(\"save_folder\")\n",
    "        SAVEFOLDER = 'save_folder'\n",
    "    elif pf == 'Darwin':\n",
    "        SAVEFOLDER = \"/tmp\"\n",
    "    elif pf == 'Linux':\n",
    "        SAVEFOLDER = \"/tmp\"\n",
    "    return SAVEFOLDER\n",
    "\n"
   ]
  },
  {
   "cell_type": "code",
   "execution_count": 8,
   "metadata": {},
   "outputs": [],
   "source": [
    "import logging\n",
    "logging.basicConfig()\n",
    "import os\n",
    "import time\n",
    "import pprint\n",
    "\n",
    "from boxsdk import JWTAuth, Client\n",
    "from slack_sdk import WebClient\n",
    "from slack_sdk.errors import SlackApiError\n",
    "from logging import getLogger, StreamHandler, DEBUG\n",
    "# チャンネル一覧を取得する\n",
    "# slack_token = os.environ.get('SLACK_TOKEN')\n",
    "logger = getLogger(__name__)\n",
    "client = WebClient(token=slack_token)\n",
    "\n",
    "SAVEFOLDER = get_tmp_folder()\n"
   ]
  },
  {
   "cell_type": "code",
   "execution_count": 59,
   "metadata": {},
   "outputs": [],
   "source": [
    "TERM=0\n",
    "channel_id = 'C03HFFXSGUA'\n",
    "latest = int(time.time() - TERM)  # 現在日時 - 2週間 の UNIX時間\n",
    "cursor = None  # シーク位置。最初は None ページを指定して、次からは next_cursor が指し示す位置。\n",
    "\n",
    "\n",
    "try:\n",
    "    response = client.conversations_history(  # conversations_history ＝ チャット一覧を得る\n",
    "        channel=channel_id,\n",
    "        latest=latest,\n",
    "        cursor=cursor  # チャンネルID、latest、シーク位置を指定。\n",
    "        # latestに指定した時間よりも古いメッセージが得られる。latestはUNIX時間で指定する。\n",
    "    )\n",
    "except SlackApiError as e:\n",
    "    exit"
   ]
  },
  {
   "cell_type": "code",
   "execution_count": 45,
   "metadata": {},
   "outputs": [
    {
     "name": "stdout",
     "output_type": "stream",
     "text": [
      "['C03L80LQYT0']\n"
     ]
    }
   ],
   "source": [
    "file_ids = []\n",
    "bot_user_id='U03H0TMS9FH'\n",
    "for page in client.files_list(user=bot_user_id):\n",
    "    for file in page.get(\"files\", []):\n",
    "        info = {\n",
    "                'file_id' : file[\"id\"],\n",
    "                'channel_id' : file['channels'],\n",
    "                \"file_name\" : file[\"name\"],\n",
    "                \"user\" : file[\"user\"],\n",
    "                \"download_url\" : file[\"url_private_download\"],\n",
    "                \"timestamp\" : file[\"timestamp\"]\n",
    "             }\n",
    "        file_ids.append(info)\n",
    "        \n",
    "# pprint.pprint(file)\n",
    "file['channels'][0]\n",
    "pprint.pprint(file['channels'])"
   ]
  },
  {
   "cell_type": "code",
   "execution_count": 50,
   "metadata": {},
   "outputs": [
    {
     "data": {
      "text/plain": [
       "0"
      ]
     },
     "execution_count": 50,
     "metadata": {},
     "output_type": "execute_result"
    }
   ],
   "source": [
    "#どこにも保存されていないファイルがある\n",
    "len(file_ids[0]['channel_id'])"
   ]
  },
  {
   "cell_type": "code",
   "execution_count": 13,
   "metadata": {},
   "outputs": [],
   "source": [
    "res = client.files_list(user=bot_user_id)"
   ]
  },
  {
   "cell_type": "markdown",
   "metadata": {},
   "source": [
    "{'ok': True, 'query': '*', 'files': {'total': 1, 'pagination': {'total_count': 1, 'page': 1, 'per_page': 20, 'page_count': 1, 'first': 1, 'last': 1}, 'paging': {'count': 20, 'total': 1, 'page': 1, 'pages': 1}, 'matches': [{'id': 'F03L6DU0SMC', 'created': 1655735793, 'timestamp': 1655735793, 'name': 'sample.png', 'title': 'sample.png', 'mimetype': 'image/png', 'filetype': 'png', 'pretty_type': 'PNG', 'user': 'U03H0TMS9FH', 'editable': False, 'size': 9103, 'mode': 'hosted', 'is_external': False, 'external_type': '', 'is_public': True, 'public_url_shared': False, 'display_as_bot': False, 'username': '', 'url_private': 'https://files.slack.com/files-pri/T03HFFHAWDQ-F03L6DU0SMC/sample.png', 'url_private_download': 'https://files.slack.com/files-pri/T03HFFHAWDQ-F03L6DU0SMC/download/sample.png', 'media_display_type': 'unknown', 'thumb_64': 'https://files.slack.com/files-tmb/T03HFFHAWDQ-F03L6DU0SMC-ebd632b300/sample_64.png', 'thumb_80': 'https://files.slack.com/files-tmb/T03HFFHAWDQ-F03L6DU0SMC-ebd632b300/sample_80.png', 'thumb_360': 'https://files.slack.com/files-tmb/T03HFFHAWDQ-F03L6DU0SMC-ebd632b300/sample_360.png', 'thumb_360_w': 360, 'thumb_360_h': 180, 'thumb_480': 'https://files.slack.com/files-tmb/T03HFFHAWDQ-F03L6DU0SMC-ebd632b300/sample_480.png', 'thumb_480_w': 480, 'thumb_480_h': 240, 'thumb_160': 'https://files.slack.com/files-tmb/T03HFFHAWDQ-F03L6DU0SMC-ebd632b300/sample_160.png', 'thumb_720': 'https://files.slack.com/files-tmb/T03HFFHAWDQ-F03L6DU0SMC-ebd632b300/sample_720.png', 'thumb_720_w': 720, 'thumb_720_h': 360, 'thumb_800': 'https://files.slack.com/files-tmb/T03HFFHAWDQ-F03L6DU0SMC-ebd632b300/sample_800.png', 'thumb_800_w': 800, 'thumb_800_h': 400, 'original_w': 800, 'original_h': 400, 'thumb_tiny': 'AwAYADDS7U3n1p3YUgz6UAAPFLn3o/CloASilooAaMn0o2/5xSr0P1o7UAN/L8qAP84paKADIpaSloA//9k=', 'permalink': 'https://slackdevtestenv.slack.com/files/U03H0TMS9FH/F03L6DU0SMC/sample.png', 'permalink_public': 'https://slack-files.com/T03HFFHAWDQ-F03L6DU0SMC-b54301f2bf', 'shares': {'public': {'C03HFFXSGUA': [{'ts': '1655735801.003739', 'channel_name': 'testchannel', 'team_id': 'T03HFFHAWDQ', 'share_user_id': 'U03H0TMS9FH'}]}}, 'channels': ['C03HFFXSGUA'], 'groups': [], 'ims': [], 'has_rich_preview': False}]}}"
   ]
  },
  {
   "cell_type": "code",
   "execution_count": 43,
   "metadata": {},
   "outputs": [
    {
     "ename": "KeyError",
     "evalue": "'channels'",
     "output_type": "error",
     "traceback": [
      "\u001b[1;31m---------------------------------------------------------------------------\u001b[0m",
      "\u001b[1;31mKeyError\u001b[0m                                  Traceback (most recent call last)",
      "\u001b[1;32mc:\\Users\\user\\SlackFile2Box\\test.ipynb Cell 8'\u001b[0m in \u001b[0;36m<cell line: 10>\u001b[1;34m()\u001b[0m\n\u001b[0;32m      <a href='vscode-notebook-cell:/c%3A/Users/user/SlackFile2Box/test.ipynb#ch0000008?line=7'>8</a>\u001b[0m timestamp \u001b[39m=\u001b[39m matched_files[i][\u001b[39m'\u001b[39m\u001b[39mtimestamp\u001b[39m\u001b[39m'\u001b[39m]\n\u001b[0;32m      <a href='vscode-notebook-cell:/c%3A/Users/user/SlackFile2Box/test.ipynb#ch0000008?line=8'>9</a>\u001b[0m \u001b[39m# timestamp = matched_files[i]['channels']\u001b[39;00m\n\u001b[1;32m---> <a href='vscode-notebook-cell:/c%3A/Users/user/SlackFile2Box/test.ipynb#ch0000008?line=9'>10</a>\u001b[0m response[\u001b[39m'\u001b[39;49m\u001b[39mfiles\u001b[39;49m\u001b[39m'\u001b[39;49m][\u001b[39m'\u001b[39;49m\u001b[39mchannels\u001b[39;49m\u001b[39m'\u001b[39;49m]\n",
      "\u001b[1;31mKeyError\u001b[0m: 'channels'"
     ]
    }
   ],
   "source": [
    "# response['ok'] # trueでok\n",
    "# response['files']['total'] #1以上でok\n",
    "# matched_files = response['files']['matches']\n",
    "# i = 0\n",
    "# filename = matched_files[i]['name']\n",
    "# user = matched_files[i]['user']\n",
    "# download_url = matched_files[i]['url_private_download']\n",
    "# timestamp = matched_files[i]['timestamp']\n",
    "# # timestamp = matched_files[i]['channels']\n",
    "# response['files']['channels']\n",
    "# # from datetime import datetime\n",
    "# # datetime.fromtimestamp(timestamp)"
   ]
  },
  {
   "cell_type": "markdown",
   "metadata": {},
   "source": [
    "# 対象はSlackの指定する3チャンネルにアップロードされている画像(および動画)\n",
    "# チャンネル一覧を取得する\n",
    "# fileの一覧を取得する\n",
    "# {name, upload_date, channel_name(or id)}\n",
    "# Boxにファイルがあるかを確認する\n",
    "# ファイルをダウンロード\n",
    "# \n",
    "\n",
    "\n",
    "- Box内のチャンネル名フォルダ配下に日付フォルダを作成し、\n",
    "- 作成したフォルダにアップロードする\n",
    "- Slackの容量がいっぱいにならない事を目的に、定期的に実行する\n",
    "- 一定期間経過したファイルを対象にする(初期値は1か月経過)\n",
    "- Pythonの自動実行環境の構築はクラウド上に行う想定"
   ]
  },
  {
   "cell_type": "code",
   "execution_count": null,
   "metadata": {},
   "outputs": [],
   "source": []
  },
  {
   "cell_type": "code",
   "execution_count": 52,
   "metadata": {},
   "outputs": [],
   "source": [
    "#ファイルのダウンロード\n",
    "import requests\n",
    "import codecs\n",
    "for file in file_ids:\n",
    "    file_url = file[\"download_url\"]\n",
    "    content = requests.get(\n",
    "                file_url,\n",
    "                allow_redirects=True,\n",
    "                headers={'Authorization': f'Bearer {slack_token}'},\n",
    "                stream=True\n",
    "            ).content\n",
    "    save_path = get_tmp_folder() + '/' + file[\"file_name\"]\n",
    "    target_file = codecs.open(save_path, 'wb')\n",
    "    target_file.write(content)\n",
    "    target_file.close()\n",
    "        "
   ]
  }
 ],
 "metadata": {
  "kernelspec": {
   "display_name": "Python 3.9.13 ('venv': venv)",
   "language": "python",
   "name": "python3"
  },
  "language_info": {
   "codemirror_mode": {
    "name": "ipython",
    "version": 3
   },
   "file_extension": ".py",
   "mimetype": "text/x-python",
   "name": "python",
   "nbconvert_exporter": "python",
   "pygments_lexer": "ipython3",
   "version": "3.9.13"
  },
  "orig_nbformat": 4,
  "vscode": {
   "interpreter": {
    "hash": "7eb3038181dad86681ddf309f1a9eab524011cb44364957cd8023c9d7fca1106"
   }
  }
 },
 "nbformat": 4,
 "nbformat_minor": 2
}
